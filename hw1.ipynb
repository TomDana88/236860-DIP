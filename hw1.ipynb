{
 "cells": [
  {
   "cell_type": "code",
   "execution_count": 1,
   "metadata": {},
   "outputs": [],
   "source": [
    "import numpy as np\n",
    "import matplotlib.pyplot as plt\n",
    "import matplotlib.image as mpimg\n",
    "from scipy.io import loadmat\n",
    "from typing import List, Tuple, Dict"
   ]
  },
  {
   "cell_type": "code",
   "execution_count": 2,
   "metadata": {},
   "outputs": [],
   "source": [
    "NUM_EXAMPLES = 100\n",
    "KERNEL_SIZE = 17\n",
    "CENTER = KERNEL_SIZE // 2\n",
    "TRAJECTORIES_DIR = 'hw1/trajectories'\n",
    "PSF_DIR = 'hw1/psf'\n",
    "BLURRED_DIR = 'hw1/blurred'"
   ]
  },
  {
   "cell_type": "code",
   "execution_count": 3,
   "metadata": {},
   "outputs": [],
   "source": [
    "mat = loadmat('hw1/100_motion_paths.mat')\n",
    "X, Y = mat['X'], mat['Y']"
   ]
  },
  {
   "cell_type": "code",
   "execution_count": 4,
   "metadata": {},
   "outputs": [],
   "source": [
    "def save_trajectories(mat, output_folder: str):\n",
    "    for i, (x, y) in enumerate(zip(mat['X'], mat['Y'])):\n",
    "        plt.plot(x, y)\n",
    "        plt.savefig(f'{output_folder}/{i}.png')\n",
    "        _ = plt.clf()"
   ]
  },
  {
   "cell_type": "code",
   "execution_count": 19,
   "metadata": {},
   "outputs": [
    {
     "data": {
      "text/plain": [
       "<Figure size 640x480 with 0 Axes>"
      ]
     },
     "metadata": {},
     "output_type": "display_data"
    }
   ],
   "source": [
    "save_trajectories(mat['X'], mat['Y'], 'hw1/trajectories')"
   ]
  },
  {
   "cell_type": "code",
   "execution_count": 73,
   "metadata": {},
   "outputs": [],
   "source": [
    "def generate_psf(X: np.ndarray, Y: np.ndarray) -> np.ndarray:\n",
    "    psfs = np.zeros((NUM_EXAMPLES, KERNEL_SIZE, KERNEL_SIZE))\n",
    "    for i in range(NUM_EXAMPLES):\n",
    "        yvec = CENTER - np.round(Y[i]).astype(int)\n",
    "        xvec = CENTER + np.round(X[i]).astype(int)\n",
    "        for x, y in zip(xvec, yvec):\n",
    "            # print(i, xi, yi)\n",
    "            psfs[i, y, x] += 1\n",
    "        psfs[i] = psfs[i] / np.sum(psfs[i])\n",
    "    # np.apply_along_axis(lambda x: x / np.sum(x), 1, psfs)\n",
    "    return psfs\n"
   ]
  },
  {
   "cell_type": "code",
   "execution_count": 74,
   "metadata": {},
   "outputs": [],
   "source": [
    "psfs = generate_psf(X, Y)"
   ]
  },
  {
   "cell_type": "code",
   "execution_count": null,
   "metadata": {},
   "outputs": [],
   "source": [
    "new_psfs = []\n",
    "for i in range(len(psfs)):\n",
    "    print(psfs[i].sum())\n",
    "    new_psfs.append(psfs[i] / psfs[i].sum())"
   ]
  },
  {
   "cell_type": "code",
   "execution_count": 69,
   "metadata": {},
   "outputs": [],
   "source": [
    "yvec = CENTER - np.round(Y[0]).astype(int)"
   ]
  },
  {
   "cell_type": "code",
   "execution_count": 72,
   "metadata": {},
   "outputs": [
    {
     "data": {
      "text/plain": [
       "(array([8, 9]), array([923,  78], dtype=int64))"
      ]
     },
     "execution_count": 72,
     "metadata": {},
     "output_type": "execute_result"
    }
   ],
   "source": [
    "np.unique(yvec, return_counts=True)"
   ]
  },
  {
   "cell_type": "code",
   "execution_count": null,
   "metadata": {},
   "outputs": [],
   "source": [
    "a = np.zeros((5, 10, 10), dtype=int)\n",
    "a"
   ]
  },
  {
   "cell_type": "code",
   "execution_count": 79,
   "metadata": {},
   "outputs": [
    {
     "data": {
      "text/plain": [
       "<matplotlib.image.AxesImage at 0x1c60599ff50>"
      ]
     },
     "execution_count": 79,
     "metadata": {},
     "output_type": "execute_result"
    },
    {
     "data": {
      "image/png": "[encoded data removed]",
      "text/plain": [
       "<Figure size 640x480 with 1 Axes>"
      ]
     },
     "metadata": {},
     "output_type": "display_data"
    }
   ],
   "source": [
    "plt.imshow(psfs[0], cmap='gray')\n"
   ]
  }
 ],
 "metadata": {
  "kernelspec": {
   "display_name": "base",
   "language": "python",
   "name": "python3"
  },
  "language_info": {
   "codemirror_mode": {
    "name": "ipython",
    "version": 3
   },
   "file_extension": ".py",
   "mimetype": "text/x-python",
   "name": "python",
   "nbconvert_exporter": "python",
   "pygments_lexer": "ipython3",
   "version": "3.11.5"
  }
 },
 "nbformat": 4,
 "nbformat_minor": 2
}
